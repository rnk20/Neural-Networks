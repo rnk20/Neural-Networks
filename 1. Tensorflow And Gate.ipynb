{
 "cells": [
  {
   "cell_type": "code",
   "execution_count": 1,
   "metadata": {},
   "outputs": [],
   "source": [
    "import tensorflow as tf\n",
    "import numpy as np\n"
   ]
  },
  {
   "cell_type": "code",
   "execution_count": 57,
   "metadata": {},
   "outputs": [
    {
     "name": "stdout",
     "output_type": "stream",
     "text": [
      "epoch:  1 error:  3.0\n",
      "epoch:  2 error:  1.0\n",
      "epoch:  3 error:  0.0\n",
      "[[ 3.576521 ]\n",
      " [ 2.5790792]\n",
      " [-4.9406815]]\n",
      "[[ 1.]\n",
      " [-1.]\n",
      " [-1.]\n",
      " [-1.]]\n",
      "[[0.]\n",
      " [0.]\n",
      " [0.]\n",
      " [0.]]\n",
      "0.0\n",
      "[[0.]\n",
      " [0.]\n",
      " [0.]]\n",
      "[[ 3.576521 ]\n",
      " [ 2.5790792]\n",
      " [-4.9406815]]\n"
     ]
    }
   ],
   "source": [
    "T, F = 1., -1.\n",
    "bias = 1.\n",
    "train_in = [\n",
    "    [T,T,bias],\n",
    "    [T,F,bias],\n",
    "    [F,T,bias],\n",
    "    [F,F,bias]\n",
    "]\n",
    "\n",
    "train_out = [\n",
    "    [T],\n",
    "    [F],\n",
    "    [F],\n",
    "    [F]\n",
    "]\n",
    "w = tf.Variable(tf.random_normal([3,1]))\n",
    "\n",
    "sess = tf.Session()\n",
    "sess.run(tf.global_variables_initializer())\n",
    "\n",
    "output = tf.sign(tf.matmul(train_in,w))\n",
    "error = tf.subtract(train_out,output)\n",
    "mse = tf.reduce_mean(tf.square(error))\n",
    "\n",
    "delta = tf.matmul(train_in,error,transpose_a=True)\n",
    "train = tf.assign(w,tf.add(w,delta))\n",
    "\n",
    "err,target = 1,0\n",
    "epoch, max_epoch = 0,10\n",
    "while err>target and epoch<max_epoch:\n",
    "    epoch+=1\n",
    "    err, _ = sess.run([mse,train])\n",
    "    print('epoch: ',epoch,'error: ',err)\n",
    "print(sess.run(w))\n",
    "print(sess.run(output))\n",
    "print(sess.run(error))\n",
    "print(sess.run(mse))\n",
    "print(sess.run(delta))\n",
    "print(sess.run(train))\n",
    "sess.close()"
   ]
  },
  {
   "cell_type": "code",
   "execution_count": null,
   "metadata": {},
   "outputs": [],
   "source": []
  },
  {
   "cell_type": "code",
   "execution_count": null,
   "metadata": {},
   "outputs": [],
   "source": []
  },
  {
   "cell_type": "code",
   "execution_count": null,
   "metadata": {},
   "outputs": [],
   "source": []
  }
 ],
 "metadata": {
  "kernelspec": {
   "display_name": "Python 3",
   "language": "python",
   "name": "python3"
  },
  "language_info": {
   "codemirror_mode": {
    "name": "ipython",
    "version": 3
   },
   "file_extension": ".py",
   "mimetype": "text/x-python",
   "name": "python",
   "nbconvert_exporter": "python",
   "pygments_lexer": "ipython3",
   "version": "3.6.5"
  }
 },
 "nbformat": 4,
 "nbformat_minor": 2
}
